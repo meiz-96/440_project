version https://git-lfs.github.com/spec/v1
oid sha256:e9b0b0c84a3ee267684ca443c7c5bb383a43c2f7114f61a7d8fea8480a38a595
size 3203
